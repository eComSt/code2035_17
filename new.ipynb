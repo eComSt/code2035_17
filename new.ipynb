{
 "cells": [
  {
   "cell_type": "code",
   "execution_count": 2,
   "metadata": {},
   "outputs": [],
   "source": [
    "from tkinter import*\n",
    "\n",
    "window = Tk()\n",
    "window.geometry('700x600')\n",
    "\n",
    "\n",
    "def draw_menu():\n",
    "    clear()\n",
    "    label_title = Label(text='Что бы вы хотели сделать?',font=('Arial', 24), fg='white', bg='orange')\n",
    "    label_title.place(width=700, height=50, x=0, y=0)\n",
    "    b_1 = Button(text='Узнать что-то новое', font=('Arial', 18), fg='black', command=clear)\n",
    "    b_1.place(x=25, y=75, width=300)\n",
    "    b_2 = Button(text='Посмотреть на котиков', font=('Arial', 18), fg='black', command=clear)\n",
    "    b_2.place(x=375, y=75, width=300)\n",
    "\n",
    "def clear():\n",
    "    all_widgets = window.place_slaves()\n",
    "    for l in all_widgets:\n",
    "        l.destroy()\n",
    "    draw_home_button()\n",
    "\n",
    "def draw_home_button():\n",
    "    b = Button(text='Домой', font=('Arial', 24), fg='black', command=draw_menu) \n",
    "    b.place(x=25, y=500, width=150)\n",
    "    \n",
    "\n",
    "\n",
    "draw_menu()\n",
    "window.mainloop()"
   ]
  }
 ],
 "metadata": {
  "kernelspec": {
   "display_name": "Python 3",
   "language": "python",
   "name": "python3"
  },
  "language_info": {
   "codemirror_mode": {
    "name": "ipython",
    "version": 3
   },
   "file_extension": ".py",
   "mimetype": "text/x-python",
   "name": "python",
   "nbconvert_exporter": "python",
   "pygments_lexer": "ipython3",
   "version": "3.11.1"
  },
  "orig_nbformat": 4
 },
 "nbformat": 4,
 "nbformat_minor": 2
}
