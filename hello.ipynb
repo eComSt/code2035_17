{
 "cells": [
  {
   "cell_type": "code",
   "execution_count": 8,
   "metadata": {},
   "outputs": [
    {
     "name": "stdout",
     "output_type": "stream",
     "text": [
      "Something went wrong.\n"
     ]
    }
   ],
   "source": [
    "try:\n",
    "    print(1/0)\n",
    "except:\n",
    "    print(\"Something went wrong.\")"
   ]
  },
  {
   "cell_type": "code",
   "execution_count": 9,
   "metadata": {},
   "outputs": [
    {
     "name": "stdout",
     "output_type": "stream",
     "text": [
      "1\n",
      "2\n",
      "3\n",
      "1\n"
     ]
    }
   ],
   "source": [
    "l = [1, 2, 3]\n",
    "def ptr(c):\n",
    "    for i in c:\n",
    "        print(i)\n",
    "        print(i)\n",
    "    print(c[0])\n"
   ]
  },
  {
   "cell_type": "code",
   "execution_count": 12,
   "metadata": {},
   "outputs": [],
   "source": [
    "#Сложность N**2\n",
    "def strcounter(s):\n",
    "    for symbol in s:\n",
    "        counter = 0\n",
    "        for letter in s:\n",
    "            if symbol == letter:\n",
    "                counter += 1\n",
    "        print(symbol, counter)"
   ]
  },
  {
   "cell_type": "code",
   "execution_count": 18,
   "metadata": {},
   "outputs": [],
   "source": [
    "#Сложность N*M\n",
    "def strcounter2(s):\n",
    "    for symbol in set(s):\n",
    "        counter = 0\n",
    "        for letter in s:\n",
    "            if symbol == letter:\n",
    "                counter += 1\n",
    "        print(symbol, counter)"
   ]
  },
  {
   "cell_type": "code",
   "execution_count": 20,
   "metadata": {},
   "outputs": [],
   "source": [
    "#Сложность N\n",
    "def strcounter3(s):\n",
    "    syms_c = {}\n",
    "    if sub_sym in s:\n",
    "        syms_counter[sub_sym] = syms_counter.get(sub_sym,0)+1\n",
    "    for sym,count in syms_c.items():\n",
    "        print(sym,count)"
   ]
  },
  {
   "cell_type": "code",
   "execution_count": 17,
   "metadata": {},
   "outputs": [
    {
     "name": "stdout",
     "output_type": "stream",
     "text": [
      "{1, 2, 3, 4}\n"
     ]
    }
   ],
   "source": [
    "l = (1,1,2,3,4)\n",
    "print(set(l))"
   ]
  },
  {
   "cell_type": "code",
   "execution_count": 22,
   "metadata": {},
   "outputs": [
    {
     "name": "stdout",
     "output_type": "stream",
     "text": [
      "c 5\n",
      "d 7\n",
      "g 2\n",
      "A 2\n",
      "f 2\n",
      "D 4\n",
      "S 3\n",
      "F 2\n",
      "h 1\n",
      "b 1\n",
      "H 1\n",
      "a 7\n",
      "s 4\n"
     ]
    }
   ],
   "source": [
    "str = \"aaaabccadssfasdgdfghasDASDFSDFHASDcccdddd\"\n",
    "strcounter2(str)"
   ]
  }
 ],
 "metadata": {
  "kernelspec": {
   "display_name": "Python 3",
   "language": "python",
   "name": "python3"
  },
  "language_info": {
   "codemirror_mode": {
    "name": "ipython",
    "version": 3
   },
   "file_extension": ".py",
   "mimetype": "text/x-python",
   "name": "python",
   "nbconvert_exporter": "python",
   "pygments_lexer": "ipython3",
   "version": "3.11.1"
  },
  "orig_nbformat": 4
 },
 "nbformat": 4,
 "nbformat_minor": 2
}
